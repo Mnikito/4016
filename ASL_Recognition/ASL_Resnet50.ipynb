import torch
import torchvision
import numpy as np
import matplotlib.pyplot as plt
import torch.nn as nn
import torch.nn.functional as F
import torch.optim as optim
from torchvision.datasets import FashionMNIST
from torchvision.transforms import ToTensor
from torchvision.utils import make_grid
from torch.utils.data.dataloader import DataLoader
from torch.utils.data import random_split
import os
from torchvision.datasets import ImageFolder
import torchvision.transforms as tt
from tqdm import tqdm
from torch.utils.data.dataloader import DataLoader
import torch.nn as nn
import torch.nn.functional as F
import matplotlib.pyplot as plt
from torchvision import transforms, datasets
data_transform = transforms.Compose([
        transforms.RandomSizedCrop(64),
        transforms.RandomHorizontalFlip(),
        transforms.ToTensor(),
        transforms.Normalize(mean=[0.485, 0.456, 0.406],
                             std=[0.229, 0.224, 0.225])
    ])
asl_train_dataset = datasets.ImageFolder(root='./asl_alphabet_train',
                                           transform=data_transform)
dataset_loader = torch.utils.data.DataLoader(asl_train_dataset,
                                             batch_size=4, shuffle=True,
                                             num_workers=4)
print(asl_train_dataset.classes)
random_seed = 42
torch.manual_seed(random_seed);
print(len(asl_train_dataset))
val_size = 7000
test_size = 14000
train_size = len(asl_train_dataset) - val_size - test_size

train_ds, val_ds, test_ds = random_split(asl_train_dataset, [train_size, val_size, test_size])

print(len(train_ds), len(val_ds), len(test_ds))
torch.cuda.is_available()
device = torch.device("cuda" if torch.cuda.is_available() else "cpu")
print(device)
batch_size=64

train_dl = DataLoader(train_ds, batch_size, shuffle=True, num_workers=4, pin_memory=True)
val_dl = DataLoader(val_ds, batch_size*2, num_workers=4, pin_memory=True)
test_dl = DataLoader(test_ds, batch_size*2, num_workers=4, pin_memory=True)
model = torch.hub.load('pytorch/vision:v0.10.0', 'resnet50', pretrained=False)
model.to(device)
import datetime  # <1>

train_losses = []
train_accuracy = []
val_losses = []
val_accuracy = []
    
def training_loop(n_epochs, optimizer, model, loss_fn, train_loader):
    correctt=0
    totalt=0
   
    at = 0 
    for epoch in range(1, n_epochs + 1):  # <2>
        loss_train = 0.0
        for imgs, labels in train_loader:  # <3>
            imgs=imgs.to(device)
            labels=labels.to(device)
            
            outputs = model(imgs)#  <2>  # <4>
            
            loss = loss_fn(outputs, labels)  # <5>

            optimizer.zero_grad()  # <6>
            
            loss.backward()  # <7>
            
            optimizer.step()  # <8>

            loss_train += loss.item()  # <9>
            at = loss_train / len(train_loader)
            train_losses.append(at)

        if epoch == 1 or epoch % 5 == 0:
            print('{} Epoch {}, Training loss {}'.format(
                datetime.datetime.now(), epoch,
                loss_train / len(train_loader)))  # <10>
       
        with torch.no_grad():
            for imgs, labels in train_loader:
                imgs=imgs.to(device)
                labels=labels.to(device)
                outputs = model(imgs)
                _, predicted = torch.max(outputs, dim=1)
            totalt += labels.shape[0]
            correctt += int((predicted == labels).sum())
            acctt = float(correctt/totalt)
            train_accuracy.append(acctt)
    print("Accuracy in Training: ",acctt)   
train_loader = torch.utils.data.DataLoader(train_dl, batch_size=64,
                                           shuffle=True)  # <1>

val_loader = torch.utils.data.DataLoader(val_dl, batch_size=64,
                                         shuffle=False)

optimizer = optim.SGD(model.parameters(), lr=3e-3)  #  <3>
loss_fn = nn.CrossEntropyLoss()  #  <4>

training_loop(  # <5>
    n_epochs = 50,
    optimizer = optimizer,
    model = model,
    loss_fn = loss_fn,
    train_loader = train_dl,
)
# Training time: 2 hrs 37 min
def validate(model, train_loader, val_loader):
    for name, loader in [("train", train_dl), ("val", val_dl)]:
        correct = 0
        total = 0

        with torch.no_grad():
            for imgs, labels in loader:
                imgs = imgs.to(device=device)
                labels = labels.to(device=device)
                outputs = model(imgs)
                _, predicted = torch.max(outputs, dim=1)  # <1>
                total += labels.shape[0]
                correct += int((predicted == labels).sum())

        print("Accuracy {}: {:.2f}".format(name, correct / total))
        acc = correct / total
    return acc

accuracy_val = validate(model, train_loader, val_loader)
torch.save(model.state_dict(),"ASL-Resnet-50.pt")
plt.figure(figsize=(10,5))
plt.title("Training and Validation Accuracy")
plt.plot(val_accuracy,label="val")
plt.plot(train_accuracy,label="train")
plt.xlabel("iterations")
plt.ylabel("Accuracy")
plt.legend()
plt.show()
plt.figure(figsize=(10,5))
plt.title("Training and Validation Loss")
plt.plot(val_losses,label="val")
plt.plot(train_losses,label="train")
plt.xlabel("iterations")
plt.ylabel("Loss")
plt.legend()
plt.show()
train_loader = torch.utils.data.DataLoader(train_dl, batch_size=64,
                                           shuffle=False)
test_loader = torch.utils.data.DataLoader(test_dl, batch_size=64,
                                         shuffle=False)

def validate(model, train_loader, test_loader):
    for name, loader in [("train", train_dl), ("test", test_dl)]:
        correct = 0
        total = 0
        a = 0 
        #val_losses = []
        #val_accuracy = []

        with torch.no_grad():  # <1>
            for imgs, labels in loader:
                imgs=imgs.to(device)
                labels=labels.to(device)
                outputs = model(imgs)
                loss = loss_fn(outputs, labels)
                #val_losses.append(loss)
                _, predicted = torch.max(outputs, dim=1) # <2>
                total += labels.shape[0]  # <3>
                correct += int((predicted == labels).sum())  # <4>
                a = correct / total
                #val_accuracy.append(a)
        print("Accuracy {}: {:.2f}".format(name , correct / total))
        print("Loss: ",loss)

validate(model, train_loader, test_loader)
import torchvision.models as models
from ptflops import get_model_complexity_info

net = model
macs, params = get_model_complexity_info(net, (3, 64, 64), as_strings=True,
                                           print_per_layer_stat=True, verbose=True)
print('{:<30}  {:<8}'.format('Computational complexity: ', macs))
print('{:<30}  {:<8}'.format('Number of parameters: ', params))
numel_list = [p.numel() for p in model.parameters()]
sum(numel_list), numel_list
