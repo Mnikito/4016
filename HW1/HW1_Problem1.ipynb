{
  "nbformat": 4,
  "nbformat_minor": 0,
  "metadata": {
    "colab": {
      "name": "HW1-Problem1.ipynb",
      "provenance": [],
      "collapsed_sections": [],
      "authorship_tag": "ABX9TyOhHB2B/6F9D3I1HZRaWYYt",
      "include_colab_link": true
    },
    "kernelspec": {
      "name": "python3",
      "display_name": "Python 3"
    },
    "language_info": {
      "name": "python"
    }
  },
  "cells": [
    {
      "cell_type": "markdown",
      "metadata": {
        "id": "view-in-github",
        "colab_type": "text"
      },
      "source": [
        "<a href=\"https://colab.research.google.com/github/Mnikito/4016/blob/main/HW1/HW1_Problem1.ipynb\" target=\"_parent\"><img src=\"https://colab.research.google.com/assets/colab-badge.svg\" alt=\"Open In Colab\"/></a>"
      ]
    },
    {
      "cell_type": "code",
      "source": [
        "from google.colab import drive\n",
        "drive.mount('/content/drive')"
      ],
      "metadata": {
        "id": "OzoodgVRJoU2",
        "colab": {
          "base_uri": "https://localhost:8080/"
        },
        "outputId": "a64e135b-6af1-48c7-8fbb-466732a40717"
      },
      "execution_count": 1,
      "outputs": [
        {
          "output_type": "stream",
          "name": "stdout",
          "text": [
            "Drive already mounted at /content/drive; to attempt to forcibly remount, call drive.mount(\"/content/drive\", force_remount=True).\n"
          ]
        }
      ]
    },
    {
      "cell_type": "code",
      "execution_count": 2,
      "metadata": {
        "id": "xUd-uVDFHUNt"
      },
      "outputs": [],
      "source": [
        "# Homework 1    Problem 1\n",
        "\n",
        "import torch"
      ]
    },
    {
      "cell_type": "code",
      "source": [
        "import imageio\n",
        "from PIL import Image\n",
        "import torchvision.transforms as transforms\n",
        "\n",
        "# 1b Load Images and Convert to Tensor\n",
        "#Red Images\n",
        "img_arr  = imageio.imread(\"/content/drive/MyDrive/4106/HW1/red1.jpg\")\n",
        "img_arr2 = imageio.imread(\"/content/drive/MyDrive/4106/HW1/red2.jpg\")\n",
        "img_arr3 = imageio.imread(\"/content/drive/MyDrive/4106/HW1/red3.jpg\")\n",
        "\n",
        "#Green Images\n",
        "img_arr4 = imageio.imread(\"/content/drive/MyDrive/4106/HW1/green1.jpg\")\n",
        "img_arr5 = imageio.imread(\"/content/drive/MyDrive/4106/HW1/green2.jpg\")\n",
        "img_arr6 = imageio.imread(\"/content/drive/MyDrive/4106/HW1/green3.jpg\")\n",
        "\n",
        "#Blue Images\n",
        "img_arr7  = imageio.imread(\"/content/drive/MyDrive/4106/HW1/blue1.jpg\")\n",
        "img_arr8 = imageio.imread(\"/content/drive/MyDrive/4106/HW1/blue2.jpg\")\n",
        "img_arr9 = imageio.imread(\"/content/drive/MyDrive/4106/HW1/blue3.jpg\")\n",
        "\n",
        "# Define transform to convert the image to PyTorch Tensor\n",
        "transform = transforms.ToTensor()\n",
        "\n",
        "# Convert image to PyTorch Tensor (Image Tensor)\n",
        "#Red\n",
        "img_t = transform(img_arr)\n",
        "img_t2 = transform(img_arr2)\n",
        "img_t3 = transform(img_arr3) \n",
        "\n",
        "#Green\n",
        "img_t4 = transform(img_arr4)\n",
        "img_t5 = transform(img_arr5)\n",
        "img_t6 = transform(img_arr6)\n",
        "\n",
        "#Blue \n",
        "img_t7 = transform(img_arr7)\n",
        "img_t8 = transform(img_arr8)\n",
        "img_t9 = transform(img_arr9)"
      ],
      "metadata": {
        "id": "qmQL9XHZHdMF"
      },
      "execution_count": 3,
      "outputs": []
    },
    {
      "cell_type": "code",
      "source": [
        "# Finding average of each color\n",
        "#Red\n",
        "r1_brightness = torch.mean(img_t)\n",
        "r2_brightness = torch.mean(img_t2)\n",
        "r3_brightness = torch.mean(img_t3)\n",
        "r1_data = torch.mean(img_t, dim =[1,2])\n",
        "r2_data = torch.mean(img_t2,dim =[1,2])\n",
        "r3_data = torch.mean(img_t3,dim =[1,2])\n",
        "\n",
        "#Green\n",
        "g1_brightness = torch.mean(img_t4)\n",
        "g2_brightness = torch.mean(img_t5)\n",
        "g3_brightness = torch.mean(img_t6)\n",
        "g1_data = torch.mean(img_t4,dim =[1,2])\n",
        "g2_data = torch.mean(img_t5,dim =[1,2])\n",
        "g3_data = torch.mean(img_t6,dim =[1,2])\n",
        "\n",
        "#Blue\n",
        "b1_brightness = torch.mean(img_t7)\n",
        "b2_brightness = torch.mean(img_t8)\n",
        "b3_brightness = torch.mean(img_t9)\n",
        "b1_data = torch.mean(img_t7, dim =[1,2])\n",
        "b2_data = torch.mean(img_t8, dim =[1,2])\n",
        "b3_data = torch.mean(img_t9, dim =[1,2])"
      ],
      "metadata": {
        "id": "rr3nwSGpccxn"
      },
      "execution_count": 4,
      "outputs": []
    },
    {
      "cell_type": "code",
      "source": [
        "# Printing Each One\n",
        "#Red Brightness\n",
        "print(\"\\nRed Photo Brightnesses\")\n",
        "print(r1_brightness)\n",
        "print(r2_brightness)\n",
        "print(r3_brightness)\n",
        "#Red Colors\n",
        "print(\"\\nRed Photo Mean Values\")\n",
        "print(r1_data)\n",
        "print(r2_data)\n",
        "print(r3_data)\n",
        "\n",
        "#Green Brightness\n",
        "print(\"\\nGreen Photo Brightnesses\")\n",
        "print(g1_brightness)\n",
        "print(g2_brightness)\n",
        "print(g3_brightness)\n",
        "\n",
        "#Green Colors\n",
        "print(\"\\nGreen Photo Mean Values\")\n",
        "print(g1_data)\n",
        "print(g2_data)\n",
        "print(g3_data)\n",
        "\n",
        "#Blue Brightness\n",
        "print(\"\\nBlue Photo Brightnesses\")\n",
        "print(b1_brightness)\n",
        "print(b2_brightness)\n",
        "print(b3_brightness)\n",
        "\n",
        "#Blue\n",
        "print(\"\\nBlue Photo Mean Values\")\n",
        "print(b1_data)\n",
        "print(b2_data)\n",
        "print(b3_data)"
      ],
      "metadata": {
        "colab": {
          "base_uri": "https://localhost:8080/"
        },
        "id": "piEG9JocNZ3q",
        "outputId": "e8a885ed-f9dc-4c92-fca1-c023fc971444"
      },
      "execution_count": 5,
      "outputs": [
        {
          "output_type": "stream",
          "name": "stdout",
          "text": [
            "\n",
            "Red Photo Brightnesses\n",
            "tensor(0.4349)\n",
            "tensor(0.3794)\n",
            "tensor(0.3779)\n",
            "\n",
            "Red Photo Mean Values\n",
            "tensor([0.6617, 0.3274, 0.3156])\n",
            "tensor([0.7598, 0.1817, 0.1968])\n",
            "tensor([0.7432, 0.1882, 0.2023])\n",
            "\n",
            "Green Photo Brightnesses\n",
            "tensor(0.5279)\n",
            "tensor(0.5480)\n",
            "tensor(0.6202)\n",
            "\n",
            "Green Photo Mean Values\n",
            "tensor([0.6329, 0.6296, 0.3213])\n",
            "tensor([0.6340, 0.6382, 0.3720])\n",
            "tensor([0.4649, 0.7379, 0.6576])\n",
            "\n",
            "Blue Photo Brightnesses\n",
            "tensor(0.6384)\n",
            "tensor(0.4861)\n",
            "tensor(0.5912)\n",
            "\n",
            "Blue Photo Mean Values\n",
            "tensor([0.6715, 0.6361, 0.6075])\n",
            "tensor([0.4523, 0.5210, 0.4848])\n",
            "tensor([0.5956, 0.5990, 0.5789])\n"
          ]
        }
      ]
    }
  ]
}