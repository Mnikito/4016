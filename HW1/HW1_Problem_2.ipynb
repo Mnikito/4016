{
  "nbformat": 4,
  "nbformat_minor": 0,
  "metadata": {
    "colab": {
      "name": "HW1 Problem 2.ipynb",
      "provenance": [],
      "collapsed_sections": [],
      "authorship_tag": "ABX9TyP5kJntQBIRLyMDZrrxYYne",
      "include_colab_link": true
    },
    "kernelspec": {
      "name": "python3",
      "display_name": "Python 3"
    },
    "language_info": {
      "name": "python"
    }
  },
  "cells": [
    {
      "cell_type": "markdown",
      "metadata": {
        "id": "view-in-github",
        "colab_type": "text"
      },
      "source": [
        "<a href=\"https://colab.research.google.com/github/Mnikito/4016/blob/main/HW1/HW1_Problem_2.ipynb\" target=\"_parent\"><img src=\"https://colab.research.google.com/assets/colab-badge.svg\" alt=\"Open In Colab\"/></a>"
      ]
    },
    {
      "cell_type": "code",
      "source": [
        "# HW 1 Problem 2\n",
        "# Modified Temperature Prediction Model"
      ],
      "metadata": {
        "id": "YbcAwPPTdwYn"
      },
      "execution_count": null,
      "outputs": []
    },
    {
      "cell_type": "code",
      "execution_count": 1,
      "metadata": {
        "id": "DSIaIKklduSy"
      },
      "outputs": [],
      "source": [
        "%matplotlib inline\n",
        "import numpy as np\n",
        "import torch\n",
        "torch.set_printoptions(edgeitems=2, linewidth=75)\n",
        "\n",
        "t_c = [0.5,  14.0, 15.0, 28.0, 11.0,  8.0,  3.0, -4.0,  6.0, 13.0, 21.0]\n",
        "t_u = [35.7, 55.9, 58.2, 81.9, 56.3, 48.9, 33.9, 21.8, 48.4, 60.4, 68.4]\n",
        "t_c = torch.tensor(t_c)\n",
        "t_u = torch.tensor(t_u)"
      ]
    },
    {
      "cell_type": "code",
      "source": [
        "############################################\n",
        "# Changes start here\n",
        "############################################\n",
        "\n",
        "def model(t_u, w2, w1, b):\n",
        "    return w2 * t_u ** 2 + w1 * t_u + b"
      ],
      "metadata": {
        "id": "2vxwjYPEeBJo"
      },
      "execution_count": 2,
      "outputs": []
    },
    {
      "cell_type": "code",
      "source": [
        "def loss_fn(t_p, t_c):\n",
        "    squared_diffs = (t_p - t_c)**2\n",
        "    return squared_diffs.mean()"
      ],
      "metadata": {
        "id": "NmQk1Iyzeb0x"
      },
      "execution_count": 3,
      "outputs": []
    },
    {
      "cell_type": "code",
      "source": [
        "w2 = torch.ones(())  # Note, I set w2 as a one to see how the algorithm bends it back to linear as it learns\n",
        "w1 = torch.ones(())  # Setting it as 0 would be easier, but this is more fun\n",
        "b = torch.zeros(())\n",
        "\n",
        "t_p = model(t_u, w2, w1, b)\n",
        "t_p"
      ],
      "metadata": {
        "colab": {
          "base_uri": "https://localhost:8080/"
        },
        "id": "tkSo1uYDefME",
        "outputId": "c5eb0f9a-365f-494a-c374-5e2003b40b6c"
      },
      "execution_count": 10,
      "outputs": [
        {
          "output_type": "execute_result",
          "data": {
            "text/plain": [
              "tensor([1310.1901, 3180.7100, 3445.4399, 6789.5103, 3225.9900, 2440.1101,\n",
              "        1183.1101,  497.0399, 2390.9600, 3708.5601, 4746.9600])"
            ]
          },
          "metadata": {},
          "execution_count": 10
        }
      ]
    },
    {
      "cell_type": "code",
      "source": [
        "loss = loss_fn(t_p, t_c)\n",
        "loss\n",
        "# Loss is huge, time to make it smaller"
      ],
      "metadata": {
        "colab": {
          "base_uri": "https://localhost:8080/"
        },
        "id": "5zBmkZyNfGNO",
        "outputId": "85e07107-80c5-4720-ccc2-3b59da271dd2"
      },
      "execution_count": 11,
      "outputs": [
        {
          "output_type": "execute_result",
          "data": {
            "text/plain": [
              "tensor(11709471.)"
            ]
          },
          "metadata": {},
          "execution_count": 11
        }
      ]
    },
    {
      "cell_type": "code",
      "source": [
        "delta = 0.1\n",
        "\n",
        "loss_rate_of_change_w2 = \\\n",
        "    (loss_fn(model(t_u, w2 + delta, b), t_c) - \n",
        "     loss_fn(model(t_u, w - delta, b), t_c)) / (2.0 * delta)\n",
        "\n",
        "loss_rate_of_change_w1 = \\\n",
        "    (loss_fn(model(t_u, w2, w1 + delta, b), t_c) - \n",
        "     loss_fn(model(t_u, w2, w1 - delta, b), t_c)) / (2.0 * delta)\n",
        "\n",
        "loss_rate_of_change_b = \\\n",
        "    (loss_fn(model(t_u, w2,, w1, b + delta), t_c) - \n",
        "     loss_fn(model(t_u, w2, w1, b - delta), t_c)) / (2.0 * delta)"
      ],
      "metadata": {
        "id": "pyTJDEEZfdfF"
      },
      "execution_count": null,
      "outputs": []
    },
    {
      "cell_type": "code",
      "source": [
        "#Set learning rate here\n",
        "learning_rate = 1e-2\n",
        "\n",
        "w2 = w2 - learning_rate * loss_rate_of_change_w2\n",
        "w1 = w1 - learning_rate * loss_rate_of_change_w1\n",
        "b = b - learning_rate * loss_rate_of_change_b"
      ],
      "metadata": {
        "id": "GA7d-HnHhguN"
      },
      "execution_count": null,
      "outputs": []
    },
    {
      "cell_type": "code",
      "source": [
        "def dloss_fn(t_p, t_c):\n",
        "    dsq_diffs = 2 * (t_p - t_c) / t_p.size(0)  # <1>\n",
        "    return dsq_diffs"
      ],
      "metadata": {
        "id": "ltV1Qqq8huun"
      },
      "execution_count": null,
      "outputs": []
    },
    {
      "cell_type": "code",
      "source": [
        "def dmodel_dw(t_u, w2, w1, b):\n",
        "    return t_u"
      ],
      "metadata": {
        "id": "jz-JYL7Uhx4v"
      },
      "execution_count": null,
      "outputs": []
    },
    {
      "cell_type": "code",
      "source": [
        "def dmodel_db(t_u, w2, w1, b):\n",
        "    return 1.0"
      ],
      "metadata": {
        "id": "iriLPZSih0De"
      },
      "execution_count": null,
      "outputs": []
    }
  ]
}