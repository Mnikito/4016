{
  "nbformat": 4,
  "nbformat_minor": 0,
  "metadata": {
    "colab": {
      "name": "HW1-Problem1.ipynb",
      "provenance": [],
      "collapsed_sections": [],
      "authorship_tag": "ABX9TyOjWm/3jYRwvHbUPbWKsWIM",
      "include_colab_link": true
    },
    "kernelspec": {
      "name": "python3",
      "display_name": "Python 3"
    },
    "language_info": {
      "name": "python"
    }
  },
  "cells": [
    {
      "cell_type": "markdown",
      "metadata": {
        "id": "view-in-github",
        "colab_type": "text"
      },
      "source": [
        "<a href=\"https://colab.research.google.com/github/Mnikito/4016/blob/main/HW1_Problem1.ipynb\" target=\"_parent\"><img src=\"https://colab.research.google.com/assets/colab-badge.svg\" alt=\"Open In Colab\"/></a>"
      ]
    },
    {
      "cell_type": "code",
      "source": [
        "from google.colab import drive\n",
        "drive.mount('/content/drive')"
      ],
      "metadata": {
        "id": "OzoodgVRJoU2",
        "colab": {
          "base_uri": "https://localhost:8080/"
        },
        "outputId": "1a2b7b83-b3bb-45aa-f1e6-1c7d472e1d51"
      },
      "execution_count": null,
      "outputs": [
        {
          "output_type": "stream",
          "name": "stdout",
          "text": [
            "Mounted at /content/drive\n"
          ]
        }
      ]
    },
    {
      "cell_type": "code",
      "execution_count": null,
      "metadata": {
        "id": "xUd-uVDFHUNt"
      },
      "outputs": [],
      "source": [
        "# Homework 1    Problem 1\n",
        "\n",
        "import torch"
      ]
    },
    {
      "cell_type": "code",
      "source": [
        "import imageio\n",
        "from PIL import Image\n",
        "import torchvision.transforms as transforms\n",
        "\n",
        "\n",
        "img_nmpy = imageio.imread('/content/drive/MyDrive/4106/HW1/IMG_20220209_212449.jpg') # Change here to load new image\n",
        "\n",
        "# 1b Load Image and Convert to Tensor\n",
        "\n",
        "# Define transform to convert the image to PyTorch Tensor\n",
        "transform = transforms.ToTensor()\n",
        "\n",
        "# Convert image to PyTorch Tensor (Image Tensor)\n",
        "imgTensor = transform(img_nmpy)\n",
        "print(\"Shape of Image Tensor:\\n\", imgTensor.shape)\n",
        "\n",
        "# Compute mean of the Image Tensor across image channels RGB\n",
        "R_mean, G_mean ,B_mean = torch.mean(imgTensor, dim = [1,2])\n",
        "\n",
        "# print mean across image channel RGB\n",
        "print(\"Mean across Read channel:\", R_mean)\n",
        "print(\"Mean across Green channel:\", G_mean)\n",
        "print(\"Mean across Blue channel:\", B_mean)"
      ],
      "metadata": {
        "colab": {
          "base_uri": "https://localhost:8080/"
        },
        "id": "qmQL9XHZHdMF",
        "outputId": "0798552c-5239-42b3-d231-05ce471f7313"
      },
      "execution_count": null,
      "outputs": [
        {
          "output_type": "stream",
          "name": "stdout",
          "text": [
            "Shape of Image Tensor:\n",
            " torch.Size([3, 3472, 4624])\n",
            "Mean across Read channel: tensor(0.1276)\n",
            "Mean across Green channel: tensor(0.1069)\n",
            "Mean across Blue channel: tensor(0.1457)\n"
          ]
        }
      ]
    },
    {
      "cell_type": "code",
      "source": [
        ""
      ],
      "metadata": {
        "id": "rr3nwSGpccxn"
      },
      "execution_count": null,
      "outputs": []
    }
  ]
}